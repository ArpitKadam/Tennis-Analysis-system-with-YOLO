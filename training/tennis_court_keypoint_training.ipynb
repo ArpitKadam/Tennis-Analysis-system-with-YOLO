{
 "cells": [
  {
   "cell_type": "code",
   "execution_count": null,
   "metadata": {},
   "outputs": [],
   "source": [
    "## Dataset Link: https://drive.google.com/file/d/1lhAaeQCmk2y440PmagA0KmIVBIysVMwu/view?usp=drive_link"
   ]
  },
  {
   "cell_type": "markdown",
   "metadata": {},
   "source": [
    "# Unziping the dataset"
   ]
  },
  {
   "cell_type": "code",
   "execution_count": 14,
   "metadata": {},
   "outputs": [
    {
     "name": "stdout",
     "output_type": "stream",
     "text": [
      "Extraction complete! ✅\n"
     ]
    }
   ],
   "source": [
    "import zipfile\n",
    "\n",
    "zip_path = \"tennis_court_det_dataset.zip\"\n",
    "extract_to = \"./\"\n",
    "\n",
    "with zipfile.ZipFile(zip_path, 'r') as zip_ref:\n",
    "    zip_ref.extractall(extract_to)\n",
    "\n",
    "print(\"Extraction complete! ✅\")"
   ]
  },
  {
   "cell_type": "code",
   "execution_count": null,
   "metadata": {},
   "outputs": [],
   "source": []
  },
  {
   "cell_type": "markdown",
   "metadata": {},
   "source": [
    "# Importing the libraries"
   ]
  },
  {
   "cell_type": "code",
   "execution_count": 6,
   "metadata": {},
   "outputs": [
    {
     "name": "stdout",
     "output_type": "stream",
     "text": [
      "GPU: True\n",
      "No of GPUs available:  1\n",
      "GPU name:  NVIDIA GeForce RTX 3050 Laptop GPU\n"
     ]
    }
   ],
   "source": [
    "import torch\n",
    "from torch.utils.data import DataLoader, Dataset\n",
    "from torchvision import transforms, models\n",
    "import os \n",
    "import json\n",
    "import cv2\n",
    "import numpy as np\n",
    "\n",
    "print(\"GPU:\",torch.cuda.is_available())\n",
    "print(\"No of GPUs available: \",torch.cuda.device_count())\n",
    "print(\"GPU name: \", torch.cuda.get_device_name(0))"
   ]
  },
  {
   "cell_type": "code",
   "execution_count": 11,
   "metadata": {},
   "outputs": [
    {
     "data": {
      "text/plain": [
       "'cuda'"
      ]
     },
     "execution_count": 11,
     "metadata": {},
     "output_type": "execute_result"
    }
   ],
   "source": [
    "device = \"cuda\" if torch.cuda.is_available() else \"cpu\"\n",
    "device"
   ]
  },
  {
   "cell_type": "code",
   "execution_count": null,
   "metadata": {},
   "outputs": [],
   "source": []
  },
  {
   "cell_type": "markdown",
   "metadata": {},
   "source": [
    "# Creating Torch Dataset"
   ]
  },
  {
   "cell_type": "code",
   "execution_count": 8,
   "metadata": {},
   "outputs": [],
   "source": [
    "class KeyPointDataset(Dataset):\n",
    "    def __init__(self, img_dir, data_file):\n",
    "        self.img_dir = img_dir\n",
    "        with open(data_file, 'r') as f:\n",
    "            self.data = json.load(f)\n",
    "\n",
    "        self.transform = transforms.Compose([\n",
    "            transforms.ToPILImage(),\n",
    "            transforms.Resize((224, 224)),\n",
    "            transforms.ToTensor(),\n",
    "            transforms.Normalize(mean=[0.485, 0.456, 0.406], std=[0.229, 0.224, 0.225])\n",
    "        ])\n",
    "\n",
    "    def __len__(self):\n",
    "        return len(self.data)\n",
    "    \n",
    "    def __getitem__(self, index):\n",
    "        item = self.data[index]\n",
    "        img = cv2.imread(f\"{self.img_dir}/{item['id']}.png\")\n",
    "        h, w = img.shape[:2]\n",
    "\n",
    "        img = cv2.cvtColor(img, cv2.COLOR_BGR2RGB)\n",
    "        img = self.transform(img)\n",
    "        kps = np.array(item[\"kps\"]).flatten()   ##Convert 1D to 2D array\n",
    "        kps = kps.astype(np.float32)\n",
    "\n",
    "        kps[::2] *= 224.0 / w \n",
    "        kps[1::2] *= 224.0 / h\n",
    "\n",
    "        return img, kps\n",
    "\n"
   ]
  },
  {
   "cell_type": "code",
   "execution_count": 9,
   "metadata": {},
   "outputs": [
    {
     "name": "stderr",
     "output_type": "stream",
     "text": [
      "<>:1: SyntaxWarning: invalid escape sequence '\\i'\n",
      "<>:2: SyntaxWarning: invalid escape sequence '\\d'\n",
      "<>:3: SyntaxWarning: invalid escape sequence '\\d'\n",
      "<>:1: SyntaxWarning: invalid escape sequence '\\i'\n",
      "<>:2: SyntaxWarning: invalid escape sequence '\\d'\n",
      "<>:3: SyntaxWarning: invalid escape sequence '\\d'\n",
      "C:\\Users\\arpit\\AppData\\Local\\Temp\\ipykernel_764\\3021662424.py:1: SyntaxWarning: invalid escape sequence '\\i'\n",
      "  img_dir = \"data\\images\"\n",
      "C:\\Users\\arpit\\AppData\\Local\\Temp\\ipykernel_764\\3021662424.py:2: SyntaxWarning: invalid escape sequence '\\d'\n",
      "  train_data_file = \"data\\data_train.json\"\n",
      "C:\\Users\\arpit\\AppData\\Local\\Temp\\ipykernel_764\\3021662424.py:3: SyntaxWarning: invalid escape sequence '\\d'\n",
      "  valid_data_file = \"data\\data_val.json\"\n"
     ]
    }
   ],
   "source": [
    "img_dir = \"data\\images\"\n",
    "train_data_file = \"data\\data_train.json\"\n",
    "valid_data_file = \"data\\data_val.json\"\n",
    "\n",
    "train_dataset = KeyPointDataset(img_dir=img_dir, data_file=train_data_file)\n",
    "valid_dataset = KeyPointDataset(img_dir=img_dir, data_file=valid_data_file)\n",
    "\n",
    "train_loader = DataLoader(train_dataset, batch_size=16, shuffle=True)\n",
    "valid_loader = DataLoader(valid_dataset, batch_size=4,  shuffle=True)\n"
   ]
  },
  {
   "cell_type": "code",
   "execution_count": null,
   "metadata": {},
   "outputs": [],
   "source": []
  },
  {
   "cell_type": "markdown",
   "metadata": {},
   "source": [
    "# Building Model"
   ]
  },
  {
   "cell_type": "code",
   "execution_count": 13,
   "metadata": {},
   "outputs": [],
   "source": [
    "model = models.resnet50(pretrained=True)\n",
    "\n",
    "model.fc = torch.nn.Linear(model.fc.in_features, 14*2)  ##Because we have 14 keypoints and each keypoint has two coordinates (x,y)\n",
    "model = model.to(device)"
   ]
  },
  {
   "cell_type": "code",
   "execution_count": null,
   "metadata": {},
   "outputs": [],
   "source": []
  },
  {
   "cell_type": "markdown",
   "metadata": {},
   "source": [
    "# Training the Model"
   ]
  },
  {
   "cell_type": "code",
   "execution_count": 14,
   "metadata": {},
   "outputs": [],
   "source": [
    "criterion = torch.nn.MSELoss()\n",
    "optimizer = torch.optim.Adam(model.parameters(), lr=1e-4)"
   ]
  },
  {
   "cell_type": "code",
   "execution_count": 17,
   "metadata": {},
   "outputs": [
    {
     "name": "stdout",
     "output_type": "stream",
     "text": [
      "Epoch: 1/20, Batch: 1/415, Loss: 8016.5312\n",
      "Epoch: 1/20, Batch: 51/415, Loss: 6877.3252\n",
      "Epoch: 1/20, Batch: 101/415, Loss: 5318.0972\n",
      "Epoch: 1/20, Batch: 151/415, Loss: 4748.4619\n",
      "Epoch: 1/20, Batch: 201/415, Loss: 3237.2556\n",
      "Epoch: 1/20, Batch: 251/415, Loss: 2406.4805\n",
      "Epoch: 1/20, Batch: 301/415, Loss: 1940.8003\n",
      "Epoch: 1/20, Batch: 351/415, Loss: 1764.3033\n",
      "Epoch: 1/20, Batch: 401/415, Loss: 1061.2107\n",
      "Epoch: 2/20, Batch: 1/415, Loss: 938.3990\n",
      "Epoch: 2/20, Batch: 51/415, Loss: 744.2564\n",
      "Epoch: 2/20, Batch: 101/415, Loss: 545.9596\n",
      "Epoch: 2/20, Batch: 151/415, Loss: 421.9608\n",
      "Epoch: 2/20, Batch: 201/415, Loss: 310.3069\n",
      "Epoch: 2/20, Batch: 251/415, Loss: 251.7309\n",
      "Epoch: 2/20, Batch: 301/415, Loss: 145.5948\n",
      "Epoch: 2/20, Batch: 351/415, Loss: 83.3557\n",
      "Epoch: 2/20, Batch: 401/415, Loss: 78.1134\n",
      "Epoch: 3/20, Batch: 1/415, Loss: 113.8022\n",
      "Epoch: 3/20, Batch: 51/415, Loss: 74.0767\n",
      "Epoch: 3/20, Batch: 101/415, Loss: 47.8127\n",
      "Epoch: 3/20, Batch: 151/415, Loss: 37.5737\n",
      "Epoch: 3/20, Batch: 201/415, Loss: 51.4477\n",
      "Epoch: 3/20, Batch: 251/415, Loss: 43.2118\n",
      "Epoch: 3/20, Batch: 301/415, Loss: 28.7474\n",
      "Epoch: 3/20, Batch: 351/415, Loss: 57.3950\n",
      "Epoch: 3/20, Batch: 401/415, Loss: 27.1016\n",
      "Epoch: 4/20, Batch: 1/415, Loss: 24.0730\n",
      "Epoch: 4/20, Batch: 51/415, Loss: 55.7540\n",
      "Epoch: 4/20, Batch: 101/415, Loss: 32.9251\n",
      "Epoch: 4/20, Batch: 151/415, Loss: 45.9521\n",
      "Epoch: 4/20, Batch: 201/415, Loss: 22.6571\n",
      "Epoch: 4/20, Batch: 251/415, Loss: 23.1655\n",
      "Epoch: 4/20, Batch: 301/415, Loss: 49.5144\n",
      "Epoch: 4/20, Batch: 351/415, Loss: 24.8220\n",
      "Epoch: 4/20, Batch: 401/415, Loss: 29.0570\n",
      "Epoch: 5/20, Batch: 1/415, Loss: 50.7405\n",
      "Epoch: 5/20, Batch: 51/415, Loss: 16.2090\n",
      "Epoch: 5/20, Batch: 101/415, Loss: 29.9930\n",
      "Epoch: 5/20, Batch: 151/415, Loss: 15.0549\n",
      "Epoch: 5/20, Batch: 201/415, Loss: 64.4619\n",
      "Epoch: 5/20, Batch: 251/415, Loss: 44.3619\n",
      "Epoch: 5/20, Batch: 301/415, Loss: 32.9855\n",
      "Epoch: 5/20, Batch: 351/415, Loss: 16.9342\n",
      "Epoch: 5/20, Batch: 401/415, Loss: 11.1657\n",
      "Epoch: 6/20, Batch: 1/415, Loss: 39.6721\n",
      "Epoch: 6/20, Batch: 51/415, Loss: 12.7881\n",
      "Epoch: 6/20, Batch: 101/415, Loss: 32.7877\n",
      "Epoch: 6/20, Batch: 151/415, Loss: 15.1996\n",
      "Epoch: 6/20, Batch: 201/415, Loss: 43.6640\n",
      "Epoch: 6/20, Batch: 251/415, Loss: 20.7514\n",
      "Epoch: 6/20, Batch: 301/415, Loss: 19.7048\n",
      "Epoch: 6/20, Batch: 351/415, Loss: 8.0156\n",
      "Epoch: 6/20, Batch: 401/415, Loss: 16.0287\n",
      "Epoch: 7/20, Batch: 1/415, Loss: 20.4364\n",
      "Epoch: 7/20, Batch: 51/415, Loss: 9.2626\n",
      "Epoch: 7/20, Batch: 101/415, Loss: 9.6666\n",
      "Epoch: 7/20, Batch: 151/415, Loss: 24.7807\n",
      "Epoch: 7/20, Batch: 201/415, Loss: 11.0404\n",
      "Epoch: 7/20, Batch: 251/415, Loss: 10.3456\n",
      "Epoch: 7/20, Batch: 301/415, Loss: 5.3679\n",
      "Epoch: 7/20, Batch: 351/415, Loss: 4.5585\n",
      "Epoch: 7/20, Batch: 401/415, Loss: 14.7279\n",
      "Epoch: 8/20, Batch: 1/415, Loss: 14.6720\n",
      "Epoch: 8/20, Batch: 51/415, Loss: 8.0138\n",
      "Epoch: 8/20, Batch: 101/415, Loss: 29.4303\n",
      "Epoch: 8/20, Batch: 151/415, Loss: 11.4250\n",
      "Epoch: 8/20, Batch: 201/415, Loss: 20.6734\n",
      "Epoch: 8/20, Batch: 251/415, Loss: 8.6293\n",
      "Epoch: 8/20, Batch: 301/415, Loss: 3.2864\n",
      "Epoch: 8/20, Batch: 351/415, Loss: 5.7229\n",
      "Epoch: 8/20, Batch: 401/415, Loss: 5.7318\n",
      "Epoch: 9/20, Batch: 1/415, Loss: 5.4577\n",
      "Epoch: 9/20, Batch: 51/415, Loss: 4.5186\n",
      "Epoch: 9/20, Batch: 101/415, Loss: 5.6328\n",
      "Epoch: 9/20, Batch: 151/415, Loss: 43.3851\n",
      "Epoch: 9/20, Batch: 201/415, Loss: 45.2883\n",
      "Epoch: 9/20, Batch: 251/415, Loss: 8.8767\n",
      "Epoch: 9/20, Batch: 301/415, Loss: 65.5406\n",
      "Epoch: 9/20, Batch: 351/415, Loss: 5.5595\n",
      "Epoch: 9/20, Batch: 401/415, Loss: 24.1740\n",
      "Epoch: 10/20, Batch: 1/415, Loss: 14.6630\n",
      "Epoch: 10/20, Batch: 51/415, Loss: 3.9575\n",
      "Epoch: 10/20, Batch: 101/415, Loss: 8.8450\n",
      "Epoch: 10/20, Batch: 151/415, Loss: 8.1823\n",
      "Epoch: 10/20, Batch: 201/415, Loss: 55.3606\n",
      "Epoch: 10/20, Batch: 251/415, Loss: 5.3635\n",
      "Epoch: 10/20, Batch: 301/415, Loss: 17.5998\n",
      "Epoch: 10/20, Batch: 351/415, Loss: 3.5329\n",
      "Epoch: 10/20, Batch: 401/415, Loss: 58.6459\n",
      "Epoch: 11/20, Batch: 1/415, Loss: 5.5497\n",
      "Epoch: 11/20, Batch: 51/415, Loss: 3.2997\n",
      "Epoch: 11/20, Batch: 101/415, Loss: 5.7315\n",
      "Epoch: 11/20, Batch: 151/415, Loss: 6.4910\n",
      "Epoch: 11/20, Batch: 201/415, Loss: 5.6641\n",
      "Epoch: 11/20, Batch: 251/415, Loss: 10.0266\n",
      "Epoch: 11/20, Batch: 301/415, Loss: 3.5984\n",
      "Epoch: 11/20, Batch: 351/415, Loss: 2.8906\n",
      "Epoch: 11/20, Batch: 401/415, Loss: 3.1897\n",
      "Epoch: 12/20, Batch: 1/415, Loss: 4.5210\n",
      "Epoch: 12/20, Batch: 51/415, Loss: 10.7208\n",
      "Epoch: 12/20, Batch: 101/415, Loss: 6.1336\n",
      "Epoch: 12/20, Batch: 151/415, Loss: 6.2242\n",
      "Epoch: 12/20, Batch: 201/415, Loss: 4.5775\n",
      "Epoch: 12/20, Batch: 251/415, Loss: 1.7229\n",
      "Epoch: 12/20, Batch: 301/415, Loss: 2.3428\n",
      "Epoch: 12/20, Batch: 351/415, Loss: 6.9642\n",
      "Epoch: 12/20, Batch: 401/415, Loss: 1.7134\n",
      "Epoch: 13/20, Batch: 1/415, Loss: 1.6586\n",
      "Epoch: 13/20, Batch: 51/415, Loss: 2.7104\n",
      "Epoch: 13/20, Batch: 101/415, Loss: 2.2885\n",
      "Epoch: 13/20, Batch: 151/415, Loss: 3.9727\n",
      "Epoch: 13/20, Batch: 201/415, Loss: 3.1455\n",
      "Epoch: 13/20, Batch: 251/415, Loss: 0.6853\n",
      "Epoch: 13/20, Batch: 301/415, Loss: 5.6423\n",
      "Epoch: 13/20, Batch: 351/415, Loss: 2.0609\n",
      "Epoch: 13/20, Batch: 401/415, Loss: 2.0225\n",
      "Epoch: 14/20, Batch: 1/415, Loss: 3.5152\n",
      "Epoch: 14/20, Batch: 51/415, Loss: 6.9765\n",
      "Epoch: 14/20, Batch: 101/415, Loss: 8.2062\n",
      "Epoch: 14/20, Batch: 151/415, Loss: 1.7691\n",
      "Epoch: 14/20, Batch: 201/415, Loss: 43.0690\n",
      "Epoch: 14/20, Batch: 251/415, Loss: 3.3631\n",
      "Epoch: 14/20, Batch: 301/415, Loss: 3.0330\n",
      "Epoch: 14/20, Batch: 351/415, Loss: 1.5508\n",
      "Epoch: 14/20, Batch: 401/415, Loss: 4.0064\n",
      "Epoch: 15/20, Batch: 1/415, Loss: 51.2232\n",
      "Epoch: 15/20, Batch: 51/415, Loss: 3.3034\n",
      "Epoch: 15/20, Batch: 101/415, Loss: 2.9088\n",
      "Epoch: 15/20, Batch: 151/415, Loss: 1.7420\n",
      "Epoch: 15/20, Batch: 201/415, Loss: 3.2846\n",
      "Epoch: 15/20, Batch: 251/415, Loss: 4.7422\n",
      "Epoch: 15/20, Batch: 301/415, Loss: 6.4793\n",
      "Epoch: 15/20, Batch: 351/415, Loss: 5.3644\n",
      "Epoch: 15/20, Batch: 401/415, Loss: 4.1463\n",
      "Epoch: 16/20, Batch: 1/415, Loss: 3.5851\n",
      "Epoch: 16/20, Batch: 51/415, Loss: 3.8513\n",
      "Epoch: 16/20, Batch: 101/415, Loss: 3.3972\n",
      "Epoch: 16/20, Batch: 151/415, Loss: 1.6543\n",
      "Epoch: 16/20, Batch: 201/415, Loss: 0.9875\n",
      "Epoch: 16/20, Batch: 251/415, Loss: 56.8880\n",
      "Epoch: 16/20, Batch: 301/415, Loss: 3.0572\n",
      "Epoch: 16/20, Batch: 351/415, Loss: 1.3978\n",
      "Epoch: 16/20, Batch: 401/415, Loss: 1.3845\n",
      "Epoch: 17/20, Batch: 1/415, Loss: 1.4478\n",
      "Epoch: 17/20, Batch: 51/415, Loss: 0.8349\n",
      "Epoch: 17/20, Batch: 101/415, Loss: 46.5535\n",
      "Epoch: 17/20, Batch: 151/415, Loss: 44.6646\n",
      "Epoch: 17/20, Batch: 201/415, Loss: 2.7889\n",
      "Epoch: 17/20, Batch: 251/415, Loss: 9.2204\n",
      "Epoch: 17/20, Batch: 301/415, Loss: 3.7794\n",
      "Epoch: 17/20, Batch: 351/415, Loss: 6.9692\n",
      "Epoch: 17/20, Batch: 401/415, Loss: 33.6011\n",
      "Epoch: 18/20, Batch: 1/415, Loss: 3.1017\n",
      "Epoch: 18/20, Batch: 51/415, Loss: 1.3504\n",
      "Epoch: 18/20, Batch: 101/415, Loss: 3.2198\n",
      "Epoch: 18/20, Batch: 151/415, Loss: 1.5697\n",
      "Epoch: 18/20, Batch: 201/415, Loss: 1.6591\n",
      "Epoch: 18/20, Batch: 251/415, Loss: 4.1683\n",
      "Epoch: 18/20, Batch: 301/415, Loss: 44.2975\n",
      "Epoch: 18/20, Batch: 351/415, Loss: 2.9565\n",
      "Epoch: 18/20, Batch: 401/415, Loss: 5.9130\n",
      "Epoch: 19/20, Batch: 1/415, Loss: 1.5771\n",
      "Epoch: 19/20, Batch: 51/415, Loss: 1.9676\n",
      "Epoch: 19/20, Batch: 101/415, Loss: 1.6561\n",
      "Epoch: 19/20, Batch: 151/415, Loss: 2.0798\n",
      "Epoch: 19/20, Batch: 201/415, Loss: 2.5598\n",
      "Epoch: 19/20, Batch: 251/415, Loss: 2.1575\n",
      "Epoch: 19/20, Batch: 301/415, Loss: 0.7180\n",
      "Epoch: 19/20, Batch: 351/415, Loss: 6.0347\n",
      "Epoch: 19/20, Batch: 401/415, Loss: 4.5778\n",
      "Epoch: 20/20, Batch: 1/415, Loss: 37.5514\n",
      "Epoch: 20/20, Batch: 51/415, Loss: 31.1578\n",
      "Epoch: 20/20, Batch: 101/415, Loss: 1.0803\n",
      "Epoch: 20/20, Batch: 151/415, Loss: 41.3557\n",
      "Epoch: 20/20, Batch: 201/415, Loss: 2.8303\n",
      "Epoch: 20/20, Batch: 251/415, Loss: 2.1804\n",
      "Epoch: 20/20, Batch: 301/415, Loss: 4.7954\n",
      "Epoch: 20/20, Batch: 351/415, Loss: 0.8220\n",
      "Epoch: 20/20, Batch: 401/415, Loss: 1.6638\n"
     ]
    }
   ],
   "source": [
    "eopchs = 20\n",
    "for epoch in range(eopchs):\n",
    "    for i, (image, kps) in enumerate(train_loader):\n",
    "        image = image.to(device)\n",
    "        kps = kps.to(device)\n",
    "\n",
    "        optimizer.zero_grad()\n",
    "\n",
    "        output = model(image)\n",
    "\n",
    "        loss = criterion(output, kps)\n",
    "\n",
    "        loss.backward()\n",
    "\n",
    "        optimizer.step()\n",
    "\n",
    "        if i % 50 == 0:\n",
    "            print(f\"Epoch: {epoch+1}/{eopchs}, Batch: {i+1}/{len(train_loader)}, Loss: {loss.item():.4f}\")\n"
   ]
  },
  {
   "cell_type": "code",
   "execution_count": null,
   "metadata": {},
   "outputs": [],
   "source": []
  },
  {
   "cell_type": "markdown",
   "metadata": {},
   "source": [
    "# Saving Model"
   ]
  },
  {
   "cell_type": "code",
   "execution_count": 19,
   "metadata": {},
   "outputs": [],
   "source": [
    "torch.save(model.state_dict(), \"keypoints_model.pth\")"
   ]
  },
  {
   "cell_type": "code",
   "execution_count": null,
   "metadata": {},
   "outputs": [],
   "source": []
  },
  {
   "cell_type": "markdown",
   "metadata": {},
   "source": [
    "# Again Building and Training the Model"
   ]
  },
  {
   "cell_type": "code",
   "execution_count": 21,
   "metadata": {},
   "outputs": [
    {
     "name": "stderr",
     "output_type": "stream",
     "text": [
      "c:\\Users\\arpit\\anaconda3\\envs\\universal\\Lib\\site-packages\\torchvision\\models\\_utils.py:208: UserWarning: The parameter 'pretrained' is deprecated since 0.13 and may be removed in the future, please use 'weights' instead.\n",
      "  warnings.warn(\n",
      "c:\\Users\\arpit\\anaconda3\\envs\\universal\\Lib\\site-packages\\torchvision\\models\\_utils.py:223: UserWarning: Arguments other than a weight enum or `None` for 'weights' are deprecated since 0.13 and may be removed in the future. The current behavior is equivalent to passing `weights=ResNet18_Weights.IMAGENET1K_V1`. You can also use `weights=ResNet18_Weights.DEFAULT` to get the most up-to-date weights.\n",
      "  warnings.warn(msg)\n"
     ]
    }
   ],
   "source": [
    "model2 = models.resnet18(pretrained=True)\n",
    "\n",
    "model2.fc = torch.nn.Linear(model.fc.in_features, 14*2)  ##Because we have 14 keypoints and each keypoint has two coordinates (x,y)\n",
    "model2 = model.to(device)"
   ]
  },
  {
   "cell_type": "code",
   "execution_count": 22,
   "metadata": {},
   "outputs": [],
   "source": [
    "criterion = torch.nn.MSELoss()\n",
    "optimizer = torch.optim.Adam(model2.parameters(), lr=1e-3)"
   ]
  },
  {
   "cell_type": "code",
   "execution_count": 23,
   "metadata": {},
   "outputs": [
    {
     "name": "stdout",
     "output_type": "stream",
     "text": [
      "Epoch: 1/5, Batch: 1/415, Loss: 15046.4219\n",
      "Epoch: 1/5, Batch: 51/415, Loss: 7838.5029\n",
      "Epoch: 1/5, Batch: 101/415, Loss: 3341.0828\n",
      "Epoch: 1/5, Batch: 151/415, Loss: 1148.2333\n",
      "Epoch: 1/5, Batch: 201/415, Loss: 262.3004\n",
      "Epoch: 1/5, Batch: 251/415, Loss: 63.8837\n",
      "Epoch: 1/5, Batch: 301/415, Loss: 75.9883\n",
      "Epoch: 1/5, Batch: 351/415, Loss: 77.3623\n",
      "Epoch: 1/5, Batch: 401/415, Loss: 37.6867\n",
      "Epoch: 2/5, Batch: 1/415, Loss: 38.1912\n",
      "Epoch: 2/5, Batch: 51/415, Loss: 32.7832\n",
      "Epoch: 2/5, Batch: 101/415, Loss: 23.9866\n",
      "Epoch: 2/5, Batch: 151/415, Loss: 30.0792\n",
      "Epoch: 2/5, Batch: 201/415, Loss: 17.8012\n",
      "Epoch: 2/5, Batch: 251/415, Loss: 23.1415\n",
      "Epoch: 2/5, Batch: 301/415, Loss: 11.6759\n",
      "Epoch: 2/5, Batch: 351/415, Loss: 18.9961\n",
      "Epoch: 2/5, Batch: 401/415, Loss: 12.8060\n",
      "Epoch: 3/5, Batch: 1/415, Loss: 32.6098\n",
      "Epoch: 3/5, Batch: 51/415, Loss: 15.2283\n",
      "Epoch: 3/5, Batch: 101/415, Loss: 12.9378\n",
      "Epoch: 3/5, Batch: 151/415, Loss: 13.1549\n",
      "Epoch: 3/5, Batch: 201/415, Loss: 12.1140\n",
      "Epoch: 3/5, Batch: 251/415, Loss: 16.5979\n",
      "Epoch: 3/5, Batch: 301/415, Loss: 7.0543\n",
      "Epoch: 3/5, Batch: 351/415, Loss: 16.6219\n",
      "Epoch: 3/5, Batch: 401/415, Loss: 13.3486\n",
      "Epoch: 4/5, Batch: 1/415, Loss: 8.1690\n",
      "Epoch: 4/5, Batch: 51/415, Loss: 24.2187\n",
      "Epoch: 4/5, Batch: 101/415, Loss: 30.1194\n",
      "Epoch: 4/5, Batch: 151/415, Loss: 13.0703\n",
      "Epoch: 4/5, Batch: 201/415, Loss: 3.2465\n",
      "Epoch: 4/5, Batch: 251/415, Loss: 52.7359\n",
      "Epoch: 4/5, Batch: 301/415, Loss: 8.5147\n",
      "Epoch: 4/5, Batch: 351/415, Loss: 11.3838\n",
      "Epoch: 4/5, Batch: 401/415, Loss: 9.3324\n",
      "Epoch: 5/5, Batch: 1/415, Loss: 10.0793\n",
      "Epoch: 5/5, Batch: 51/415, Loss: 5.6915\n",
      "Epoch: 5/5, Batch: 101/415, Loss: 4.1845\n",
      "Epoch: 5/5, Batch: 151/415, Loss: 7.0995\n",
      "Epoch: 5/5, Batch: 201/415, Loss: 8.2136\n",
      "Epoch: 5/5, Batch: 251/415, Loss: 10.1429\n",
      "Epoch: 5/5, Batch: 301/415, Loss: 16.7931\n",
      "Epoch: 5/5, Batch: 351/415, Loss: 45.0729\n",
      "Epoch: 5/5, Batch: 401/415, Loss: 5.4745\n"
     ]
    }
   ],
   "source": [
    "eopchs = 5\n",
    "for epoch in range(eopchs):\n",
    "    for i, (image, kps) in enumerate(train_loader):\n",
    "        image = image.to(device)\n",
    "        kps = kps.to(device)\n",
    "\n",
    "        optimizer.zero_grad()\n",
    "\n",
    "        output = model2(image)\n",
    "\n",
    "        loss = criterion(output, kps)\n",
    "\n",
    "        loss.backward()\n",
    "\n",
    "        optimizer.step()\n",
    "\n",
    "        if i % 50 == 0:\n",
    "            print(f\"Epoch: {epoch+1}/{eopchs}, Batch: {i+1}/{len(train_loader)}, Loss: {loss.item():.4f}\")\n"
   ]
  },
  {
   "cell_type": "code",
   "execution_count": 24,
   "metadata": {},
   "outputs": [],
   "source": [
    "torch.save(model2.state_dict(), \"keypoints_model_2.pth\")"
   ]
  },
  {
   "cell_type": "code",
   "execution_count": null,
   "metadata": {},
   "outputs": [],
   "source": []
  },
  {
   "cell_type": "code",
   "execution_count": null,
   "metadata": {},
   "outputs": [],
   "source": []
  }
 ],
 "metadata": {
  "kernelspec": {
   "display_name": "universal",
   "language": "python",
   "name": "python3"
  },
  "language_info": {
   "codemirror_mode": {
    "name": "ipython",
    "version": 3
   },
   "file_extension": ".py",
   "mimetype": "text/x-python",
   "name": "python",
   "nbconvert_exporter": "python",
   "pygments_lexer": "ipython3",
   "version": "3.12.9"
  }
 },
 "nbformat": 4,
 "nbformat_minor": 2
}
